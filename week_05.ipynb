{
  "nbformat": 4,
  "nbformat_minor": 0,
  "metadata": {
    "colab": {
      "name": "week_05.ipynb",
      "provenance": [],
      "collapsed_sections": []
    },
    "kernelspec": {
      "name": "python3",
      "display_name": "Python 3"
    },
    "language_info": {
      "name": "python"
    }
  },
  "cells": [
    {
      "cell_type": "markdown",
      "source": [
        "**분류 모델 평가**\n",
        "- **Confusion matrix, 혼동 행렬**\n",
        "  - ```python\n",
        "    from sklearn.metrics import confusion_matrix\n",
        "    matrix = confusion_matrix(y_train, pred)\n",
        "    ```\n",
        "  - 실제 데이터와 예측 데이터 간의 관계를 나타낸 행렬\n",
        "  - ```\n",
        "          예측 P  예측 N\n",
        "    실제 P   TP    FN\n",
        "    실제 N   FP    TN\n",
        "    ```\n",
        "- **Accuracy, 정확도**\n",
        "  - ```python\n",
        "    from sklearn.metrics import accuracy_score\n",
        "    score = accuracy_score(y_train, pred)\n",
        "    ```\n",
        "  - `정답 예측 데이터 / 전체 데이터`\n",
        "  - `(TP + TN) / TOTAL`\n",
        "- **Precision, 정밀도**\n",
        "  - ```python\n",
        "    from sklearn.metrics import precision_score\n",
        "    score = precision_score(y_train, pred)\n",
        "    ```\n",
        "  - `정답 예측 데이터 / 각 클래스 데이터`\n",
        "  - `TP / (TP + FP)`\n",
        "- **Recall, 재현율**\n",
        "  - ```python\n",
        "    from sklearn.metrics import recall_score\n",
        "    score = recall_score(y_train, pred)\n",
        "    ```\n",
        "  - `정답 예측 데이터 / 학습 데이터`\n",
        "  - `TP / (TP + FN)`\n"
      ],
      "metadata": {
        "id": "b8dpP72XsXBm"
      }
    },
    {
      "cell_type": "markdown",
      "source": [
        "## Lecture 01 - 분류 모델 평가"
      ],
      "metadata": {
        "id": "TGkoff34uTm1"
      }
    },
    {
      "cell_type": "code",
      "execution_count": 62,
      "metadata": {
        "id": "jgwIdYWPsOE-"
      },
      "outputs": [],
      "source": [
        "# import pandas\n",
        "import pandas as pd\n",
        "\n",
        "pd.options.display.max_columns = 5\n",
        "pd.options.display.max_rows = 10"
      ]
    },
    {
      "cell_type": "code",
      "source": [
        "# 1. load dataset\n",
        "from sklearn.datasets import load_breast_cancer\n",
        "data = load_breast_cancer()"
      ],
      "metadata": {
        "id": "VvMYWn_hunv0"
      },
      "execution_count": 63,
      "outputs": []
    },
    {
      "cell_type": "code",
      "source": [
        "# 2. set X, y\n",
        "X = pd.DataFrame(data=data.data, columns=data.feature_names)\n",
        "y = pd.Series(data=data.target)\n",
        "\n",
        "print(X.head())"
      ],
      "metadata": {
        "colab": {
          "base_uri": "https://localhost:8080/"
        },
        "id": "Tx2uN7zUuqqz",
        "outputId": "7bc9d034-1619-47fd-d090-de04f421a349"
      },
      "execution_count": 64,
      "outputs": [
        {
          "output_type": "stream",
          "name": "stdout",
          "text": [
            "   mean radius  mean texture  ...  worst symmetry  worst fractal dimension\n",
            "0        17.99         10.38  ...          0.4601                  0.11890\n",
            "1        20.57         17.77  ...          0.2750                  0.08902\n",
            "2        19.69         21.25  ...          0.3613                  0.08758\n",
            "3        11.42         20.38  ...          0.6638                  0.17300\n",
            "4        20.29         14.34  ...          0.2364                  0.07678\n",
            "\n",
            "[5 rows x 30 columns]\n"
          ]
        }
      ]
    },
    {
      "cell_type": "code",
      "source": [
        "# 3. check X, y\n",
        "print(X.info())                 "
      ],
      "metadata": {
        "colab": {
          "base_uri": "https://localhost:8080/"
        },
        "id": "FM4D3sYsut5A",
        "outputId": "7279a680-abbd-48d3-a670-7fa9c53f0f1a"
      },
      "execution_count": 65,
      "outputs": [
        {
          "output_type": "stream",
          "name": "stdout",
          "text": [
            "<class 'pandas.core.frame.DataFrame'>\n",
            "RangeIndex: 569 entries, 0 to 568\n",
            "Data columns (total 30 columns):\n",
            " #   Column                   Non-Null Count  Dtype  \n",
            "---  ------                   --------------  -----  \n",
            " 0   mean radius              569 non-null    float64\n",
            " 1   mean texture             569 non-null    float64\n",
            " 2   mean perimeter           569 non-null    float64\n",
            " 3   mean area                569 non-null    float64\n",
            " 4   mean smoothness          569 non-null    float64\n",
            " 5   mean compactness         569 non-null    float64\n",
            " 6   mean concavity           569 non-null    float64\n",
            " 7   mean concave points      569 non-null    float64\n",
            " 8   mean symmetry            569 non-null    float64\n",
            " 9   mean fractal dimension   569 non-null    float64\n",
            " 10  radius error             569 non-null    float64\n",
            " 11  texture error            569 non-null    float64\n",
            " 12  perimeter error          569 non-null    float64\n",
            " 13  area error               569 non-null    float64\n",
            " 14  smoothness error         569 non-null    float64\n",
            " 15  compactness error        569 non-null    float64\n",
            " 16  concavity error          569 non-null    float64\n",
            " 17  concave points error     569 non-null    float64\n",
            " 18  symmetry error           569 non-null    float64\n",
            " 19  fractal dimension error  569 non-null    float64\n",
            " 20  worst radius             569 non-null    float64\n",
            " 21  worst texture            569 non-null    float64\n",
            " 22  worst perimeter          569 non-null    float64\n",
            " 23  worst area               569 non-null    float64\n",
            " 24  worst smoothness         569 non-null    float64\n",
            " 25  worst compactness        569 non-null    float64\n",
            " 26  worst concavity          569 non-null    float64\n",
            " 27  worst concave points     569 non-null    float64\n",
            " 28  worst symmetry           569 non-null    float64\n",
            " 29  worst fractal dimension  569 non-null    float64\n",
            "dtypes: float64(30)\n",
            "memory usage: 133.5 KB\n",
            "None\n"
          ]
        }
      ]
    },
    {
      "cell_type": "code",
      "source": [
        "print(X.isnull().sum())"
      ],
      "metadata": {
        "colab": {
          "base_uri": "https://localhost:8080/"
        },
        "id": "R_Z8OeWnut7R",
        "outputId": "aae3e252-41d8-4d59-b2ce-418407368def"
      },
      "execution_count": 66,
      "outputs": [
        {
          "output_type": "stream",
          "name": "stdout",
          "text": [
            "mean radius                0\n",
            "mean texture               0\n",
            "mean perimeter             0\n",
            "mean area                  0\n",
            "mean smoothness            0\n",
            "                          ..\n",
            "worst compactness          0\n",
            "worst concavity            0\n",
            "worst concave points       0\n",
            "worst symmetry             0\n",
            "worst fractal dimension    0\n",
            "Length: 30, dtype: int64\n"
          ]
        }
      ]
    },
    {
      "cell_type": "code",
      "source": [
        "print(X.describe())"
      ],
      "metadata": {
        "colab": {
          "base_uri": "https://localhost:8080/"
        },
        "id": "9oNrD_4vut9C",
        "outputId": "584abc68-ec3b-4535-8d78-f42e4cd92c56"
      },
      "execution_count": 67,
      "outputs": [
        {
          "output_type": "stream",
          "name": "stdout",
          "text": [
            "       mean radius  mean texture  ...  worst symmetry  worst fractal dimension\n",
            "count   569.000000    569.000000  ...      569.000000               569.000000\n",
            "mean     14.127292     19.289649  ...        0.290076                 0.083946\n",
            "std       3.524049      4.301036  ...        0.061867                 0.018061\n",
            "min       6.981000      9.710000  ...        0.156500                 0.055040\n",
            "25%      11.700000     16.170000  ...        0.250400                 0.071460\n",
            "50%      13.370000     18.840000  ...        0.282200                 0.080040\n",
            "75%      15.780000     21.800000  ...        0.317900                 0.092080\n",
            "max      28.110000     39.280000  ...        0.663800                 0.207500\n",
            "\n",
            "[8 rows x 30 columns]\n"
          ]
        }
      ]
    },
    {
      "cell_type": "code",
      "source": [
        "print(y.value_counts())"
      ],
      "metadata": {
        "colab": {
          "base_uri": "https://localhost:8080/"
        },
        "id": "w9vXMWjqut_I",
        "outputId": "7869d5e8-dbf9-41f5-ea83-3e6ab653d72e"
      },
      "execution_count": 68,
      "outputs": [
        {
          "output_type": "stream",
          "name": "stdout",
          "text": [
            "1    357\n",
            "0    212\n",
            "dtype: int64\n"
          ]
        }
      ]
    },
    {
      "cell_type": "code",
      "source": [
        "print(y.value_counts() / len(y))"
      ],
      "metadata": {
        "colab": {
          "base_uri": "https://localhost:8080/"
        },
        "id": "9ZxvE315uuA5",
        "outputId": "0f280830-da0a-4951-b56d-836414999ce6"
      },
      "execution_count": 69,
      "outputs": [
        {
          "output_type": "stream",
          "name": "stdout",
          "text": [
            "1    0.627417\n",
            "0    0.372583\n",
            "dtype: float64\n"
          ]
        }
      ]
    },
    {
      "cell_type": "code",
      "source": [
        "# 4. split data\n",
        "from sklearn.model_selection import train_test_split\n",
        "X_train, X_test, y_train, y_test = train_test_split(X, y,\n",
        "                                                    test_size=0.2)\n",
        "\n",
        "print(len(X_train), len(X_test))\n",
        "print(len(y_train), len(y_test))"
      ],
      "metadata": {
        "colab": {
          "base_uri": "https://localhost:8080/"
        },
        "id": "7TtwTzXSuuDA",
        "outputId": "f4d426b8-0e7e-4fcb-a1f3-02f901893f5f"
      },
      "execution_count": 70,
      "outputs": [
        {
          "output_type": "stream",
          "name": "stdout",
          "text": [
            "455 114\n",
            "455 114\n"
          ]
        }
      ]
    },
    {
      "cell_type": "code",
      "source": [
        "# 5. build model\n",
        "from sklearn.linear_model import LogisticRegression\n",
        "model = LogisticRegression(max_iter=10000)\n",
        "model.fit(X_train, y_train)\n",
        "\n",
        "score = model.score(X_train, y_train)\n",
        "print(f'SCORE(TRAIN): {score}')\n",
        "\n",
        "score = model.score(X_test, y_test)\n",
        "print(f' SCORE(TEST): {score}\\n')\n",
        "\n",
        "pred = model.predict(X_test[:10])\n",
        "print(f'PREDICT: {pred}')\n",
        "print(f' ANSWER: {y_test[:10].values}\\n')\n",
        "\n",
        "# weights and bias\n",
        "print(f'WEIGHT: {model.coef_}')\n",
        "print(f'  BIAS: {model.intercept_}\\n')\n",
        "\n",
        "# evaluation metrics\n",
        "from sklearn.metrics import confusion_matrix, accuracy_score, precision_score, recall_score\n",
        "pred = model.predict(X_train)\n",
        "\n",
        "matrix = confusion_matrix(y_train, pred)\n",
        "print(f'Confusion matrix\\n{matrix}\\n')\n",
        "\n",
        "score = accuracy_score(y_train, pred)\n",
        "print(f' Accuracy: {score}')\n",
        "\n",
        "score = precision_score(y_train, pred)\n",
        "print(f'Precision: {score}')\n",
        "\n",
        "score = accuracy_score(y_train, pred)\n",
        "print(f'   Recall: {score}')"
      ],
      "metadata": {
        "colab": {
          "base_uri": "https://localhost:8080/"
        },
        "id": "p1Pmu-Hmu5RF",
        "outputId": "9df613f6-332b-4ab2-f3e7-f8010c9a467e"
      },
      "execution_count": 71,
      "outputs": [
        {
          "output_type": "stream",
          "name": "stdout",
          "text": [
            "SCORE(TRAIN): 0.9648351648351648\n",
            " SCORE(TEST): 0.9385964912280702\n",
            "\n",
            "PREDICT: [1 1 0 0 0 1 1 1 1 1]\n",
            " ANSWER: [1 1 0 0 0 1 1 1 1 1]\n",
            "\n",
            "WEIGHT: [[ 0.93820373  0.21284791 -0.3640111   0.02655963 -0.13871486 -0.21257181\n",
            "  -0.48490997 -0.24761432 -0.22108582 -0.03272396 -0.07194268  1.68413916\n",
            "   0.49477002 -0.14989175 -0.02267109 -0.01318917 -0.09614012 -0.03842796\n",
            "  -0.05184831 -0.00246896  0.40845622 -0.45945504 -0.12716058 -0.01163199\n",
            "  -0.29788307 -0.65203753 -1.38944079 -0.50876167 -0.69034601 -0.11071522]]\n",
            "  BIAS: [30.9795594]\n",
            "\n",
            "Confusion matrix\n",
            "[[157   9]\n",
            " [  7 282]]\n",
            "\n",
            " Accuracy: 0.9648351648351648\n",
            "Precision: 0.9690721649484536\n",
            "   Recall: 0.9648351648351648\n"
          ]
        }
      ]
    }
  ]
}