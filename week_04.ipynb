{
  "nbformat": 4,
  "nbformat_minor": 0,
  "metadata": {
    "colab": {
      "name": "week_04.ipynb",
      "provenance": [],
      "collapsed_sections": []
    },
    "kernelspec": {
      "name": "python3",
      "display_name": "Python 3"
    },
    "language_info": {
      "name": "python"
    }
  },
  "cells": [
    {
      "cell_type": "markdown",
      "source": [
        "**회귀 분석**\n",
        "- 연속된 수치형의 데이터를 예측할 때 사용하는 기법\n",
        "- 설명변수 X\n",
        "  - 각 특성의 데이터 스케일을 반드시 확인\n",
        "  - 모두 동일한 스케일을 갖도록 전처리 필요\n",
        "- 종속변수 y\n",
        "  - 클래스 비율을 유지할 필요가 없음\n",
        "\n",
        "**선형 회귀 모델**\n",
        "- **LinearRegression**\n",
        "  - ```python\n",
        "    from sklearn.linear_model import LinearRegression\n",
        "    model = LinearRegression()\n",
        "    ```\n",
        "  - 학습 데이터를 예측하기 위해, 각 특성에 최적화된 가중치와 절편을 계산\n",
        "     - 학습 결과로 나온 가중치는 학습 데이터에 맞는 가중치로, 과적합이 발생할 수 있음\n",
        "     - 과적합이 발생하는 경우 L1 제약(Lasso) 또는 L2 제약(Ridge)을 통해 해결 가능\n",
        "  - 가중치의 절대값이 클수록 영향력이 높은 특성으로, 다른 특성에 비해 가중치가 큰 특성은 중요한 특성임 \n",
        "  - R2 Score\n",
        "    - 회귀 모델 평가 지표로, 0.7 이상의 값을 갖는 것이 이상적임\n",
        "  - 최적화된 가중치와 절편\n",
        "    - 가중치 - `coef_`\n",
        "    - 절편 - `intercept_`\n",
        "\n",
        "**제약**\n",
        "- **L1 제약** - **Lasso**\n",
        "  - ```python\n",
        "    from sklearn.linear_model import Lasso\n",
        "    model = Lasso(alpha=alpha)\n",
        "    ```\n",
        "  - 모든 컬럼 중 특정 컬럼에 대해서만 가중치의 값을 할당하는 제약 조건\n",
        "  - 그 외 컬럼의 가중치 값은 0으로 제약\n",
        "  - 컬럼이 많은 데이터를 학습하는 경우 빠른 학습 속도를 보임\n",
        "  - 모든 컬럼 중 중요도가 높은 컬럼을 구분할 수 있음 \n",
        "- **L2 제약** - **Ridge**\n",
        "  - ```python\n",
        "    from sklearn.linear_model import Ridge\n",
        "    model = Ridge(alpha=alpha)\n",
        "    ```\n",
        "  - 모든 컬럼의 가중치 값을 0으로 수렴하게 제어하는 제약 조건 \n",
        "  - 일반화 성능을 올리기 위해 모든 컬럼을 적절히 활용할 수 있도록 사용하는 제약 조건 \n",
        "- Lasso와 Ridge의 하이퍼 파라미터 **alpha**\n",
        "  - alpha 값이 커질수록 제약을 크게 설정함 => 모든 칼럼의 가중치 값이 0으로 수렴\n",
        "  - alpha 값이 작아질수록 제약을 작게 설정함 => 모든 칼럼의 가중치 값이 0에서 발산 \n",
        "  - alpha 값이 작아질수록 LinearRegression과 비슷해짐 \n",
        "\n",
        "**차원 확장**\n",
        "  - ```python\n",
        "    from sklearn.preprocessing import PolynomialFeatures\n",
        "    poly = PolynomialFeatures(degree=degree, include_bias=include_bias)\n",
        "    ```\n",
        "  - 선형 모델은 기본적으로 1차원 직선을 사용하여 데이터를 예측함\n",
        "  - 차원을 확장함으로써 성능을 향상시킬 수 있음 \n",
        "  - degree \n",
        "    - 생성할 다항식 차수\n",
        "  - include_bias\n",
        "    - 절편 생성 여부 "
      ],
      "metadata": {
        "id": "qj059ZgJyVPA"
      }
    },
    {
      "cell_type": "markdown",
      "source": [
        "## Lecture 01 - 회귀 분석 with LinearRegression"
      ],
      "metadata": {
        "id": "Y7FnwcOe2Smp"
      }
    },
    {
      "cell_type": "code",
      "execution_count": 52,
      "metadata": {
        "id": "iw2LRURfyOaX"
      },
      "outputs": [],
      "source": [
        "# import pandas\n",
        "import pandas as pd\n",
        "\n",
        "pd.options.display.max_columns = 5\n",
        "pd.options.display.max_rows = 10"
      ]
    },
    {
      "cell_type": "code",
      "source": [
        "# 1. load dataset\n",
        "from sklearn.datasets import fetch_california_housing\n",
        "data = fetch_california_housing()"
      ],
      "metadata": {
        "id": "IBTUuEfMjBmc"
      },
      "execution_count": 53,
      "outputs": []
    },
    {
      "cell_type": "code",
      "source": [
        "# 2. set X, y\n",
        "X = pd.DataFrame(data=data.data, columns=data.feature_names)\n",
        "y = pd.Series(data=data.target)\n",
        "\n",
        "print(X.head())"
      ],
      "metadata": {
        "colab": {
          "base_uri": "https://localhost:8080/"
        },
        "id": "8e1WaIzJjC_j",
        "outputId": "3b2bd559-6974-4e0b-afa4-c54e059db605"
      },
      "execution_count": 54,
      "outputs": [
        {
          "output_type": "stream",
          "name": "stdout",
          "text": [
            "   MedInc  HouseAge  ...  Latitude  Longitude\n",
            "0  8.3252      41.0  ...     37.88    -122.23\n",
            "1  8.3014      21.0  ...     37.86    -122.22\n",
            "2  7.2574      52.0  ...     37.85    -122.24\n",
            "3  5.6431      52.0  ...     37.85    -122.25\n",
            "4  3.8462      52.0  ...     37.85    -122.25\n",
            "\n",
            "[5 rows x 8 columns]\n"
          ]
        }
      ]
    },
    {
      "cell_type": "code",
      "source": [
        "# 3. check X, y\n",
        "print(X.info())                 "
      ],
      "metadata": {
        "colab": {
          "base_uri": "https://localhost:8080/"
        },
        "id": "ZjC9H9LNjLqs",
        "outputId": "8c8f9598-1539-4633-9a4c-c78bc77e7ae5"
      },
      "execution_count": 55,
      "outputs": [
        {
          "output_type": "stream",
          "name": "stdout",
          "text": [
            "<class 'pandas.core.frame.DataFrame'>\n",
            "RangeIndex: 20640 entries, 0 to 20639\n",
            "Data columns (total 8 columns):\n",
            " #   Column      Non-Null Count  Dtype  \n",
            "---  ------      --------------  -----  \n",
            " 0   MedInc      20640 non-null  float64\n",
            " 1   HouseAge    20640 non-null  float64\n",
            " 2   AveRooms    20640 non-null  float64\n",
            " 3   AveBedrms   20640 non-null  float64\n",
            " 4   Population  20640 non-null  float64\n",
            " 5   AveOccup    20640 non-null  float64\n",
            " 6   Latitude    20640 non-null  float64\n",
            " 7   Longitude   20640 non-null  float64\n",
            "dtypes: float64(8)\n",
            "memory usage: 1.3 MB\n",
            "None\n"
          ]
        }
      ]
    },
    {
      "cell_type": "code",
      "source": [
        "print(X .isnull().sum())"
      ],
      "metadata": {
        "colab": {
          "base_uri": "https://localhost:8080/"
        },
        "id": "TZYF6q_vjaMC",
        "outputId": "c1666b4d-40de-4613-d91f-68bfc0bd7dda"
      },
      "execution_count": 56,
      "outputs": [
        {
          "output_type": "stream",
          "name": "stdout",
          "text": [
            "MedInc        0\n",
            "HouseAge      0\n",
            "AveRooms      0\n",
            "AveBedrms     0\n",
            "Population    0\n",
            "AveOccup      0\n",
            "Latitude      0\n",
            "Longitude     0\n",
            "dtype: int64\n"
          ]
        }
      ]
    },
    {
      "cell_type": "code",
      "source": [
        "print(X.describe())"
      ],
      "metadata": {
        "colab": {
          "base_uri": "https://localhost:8080/"
        },
        "id": "WuGrR0sBjMXV",
        "outputId": "7edc114c-08c1-4391-beeb-e14b8bb7047a"
      },
      "execution_count": 57,
      "outputs": [
        {
          "output_type": "stream",
          "name": "stdout",
          "text": [
            "             MedInc      HouseAge  ...      Latitude     Longitude\n",
            "count  20640.000000  20640.000000  ...  20640.000000  20640.000000\n",
            "mean       3.870671     28.639486  ...     35.631861   -119.569704\n",
            "std        1.899822     12.585558  ...      2.135952      2.003532\n",
            "min        0.499900      1.000000  ...     32.540000   -124.350000\n",
            "25%        2.563400     18.000000  ...     33.930000   -121.800000\n",
            "50%        3.534800     29.000000  ...     34.260000   -118.490000\n",
            "75%        4.743250     37.000000  ...     37.710000   -118.010000\n",
            "max       15.000100     52.000000  ...     41.950000   -114.310000\n",
            "\n",
            "[8 rows x 8 columns]\n"
          ]
        }
      ]
    },
    {
      "cell_type": "code",
      "source": [
        "print(y.value_counts())"
      ],
      "metadata": {
        "colab": {
          "base_uri": "https://localhost:8080/"
        },
        "id": "USUHP9eyjMcD",
        "outputId": "3dbb1935-2083-4beb-c9a5-222c5bfd95b3"
      },
      "execution_count": 58,
      "outputs": [
        {
          "output_type": "stream",
          "name": "stdout",
          "text": [
            "5.00001    965\n",
            "1.37500    122\n",
            "1.62500    117\n",
            "1.12500    103\n",
            "1.87500     93\n",
            "          ... \n",
            "3.59200      1\n",
            "0.54900      1\n",
            "3.77600      1\n",
            "0.81200      1\n",
            "0.47000      1\n",
            "Length: 3842, dtype: int64\n"
          ]
        }
      ]
    },
    {
      "cell_type": "code",
      "source": [
        "print(y.value_counts() / len(y))"
      ],
      "metadata": {
        "colab": {
          "base_uri": "https://localhost:8080/"
        },
        "id": "oBx3LSsijQeS",
        "outputId": "856d937c-1656-46fb-c53b-fd260a9dbdb9"
      },
      "execution_count": 59,
      "outputs": [
        {
          "output_type": "stream",
          "name": "stdout",
          "text": [
            "5.00001    0.046754\n",
            "1.37500    0.005911\n",
            "1.62500    0.005669\n",
            "1.12500    0.004990\n",
            "1.87500    0.004506\n",
            "             ...   \n",
            "3.59200    0.000048\n",
            "0.54900    0.000048\n",
            "3.77600    0.000048\n",
            "0.81200    0.000048\n",
            "0.47000    0.000048\n",
            "Length: 3842, dtype: float64\n"
          ]
        }
      ]
    },
    {
      "cell_type": "code",
      "source": [
        "# 4. split data\n",
        "from sklearn.model_selection import train_test_split\n",
        "X_train, X_test, y_train, y_test = train_test_split(X, y,\n",
        "                                                    test_size=0.2)\n",
        "\n",
        "print(len(X_train), len(X_test))\n",
        "print(len(y_train), len(y_test))"
      ],
      "metadata": {
        "colab": {
          "base_uri": "https://localhost:8080/"
        },
        "id": "gZM9t7GTjQhF",
        "outputId": "f15a0bd1-1909-4f49-9ee0-0c123ea6105a"
      },
      "execution_count": 60,
      "outputs": [
        {
          "output_type": "stream",
          "name": "stdout",
          "text": [
            "16512 4128\n",
            "16512 4128\n"
          ]
        }
      ]
    },
    {
      "cell_type": "code",
      "source": [
        "# 5. build model\n",
        "from sklearn.linear_model import LinearRegression\n",
        "model = LinearRegression()\n",
        "model.fit(X_train, y_train)\n",
        "\n",
        "score = model.score(X_train, y_train)\n",
        "print(f'SCORE(TRAIN): {score}')\n",
        "\n",
        "score = model.score(X_test, y_test)\n",
        "print(f' SCORE(TEST): {score}\\n')\n",
        "\n",
        "pred = model.predict(X_test[:10])\n",
        "print(f'PREDICT: {pred}')\n",
        "print(f' ANSWER: {y_test[:10].values}\\n')\n",
        "\n",
        "# weights and bias\n",
        "print(f'WEIGHT: {model.coef_}')\n",
        "print(f'  BIAS: {model.intercept_}\\n')\n",
        "\n",
        "# evaluation metrics\n",
        "from sklearn.metrics import r2_score, mean_absolute_error, mean_absolute_percentage_error, mean_squared_error\n",
        "pred = model.predict(X_train)\n",
        "print(f'R2 SCORE: {r2_score(y_train, pred)}')\n",
        "print(f'     MAE: {mean_absolute_error(y_train, pred)}')\n",
        "print(f'    MAPE: {mean_absolute_percentage_error(y_train, pred)}')\n",
        "print(f'     MSE: {mean_squared_error(y_train, pred)}')"
      ],
      "metadata": {
        "colab": {
          "base_uri": "https://localhost:8080/"
        },
        "id": "Pdrrp0KajQji",
        "outputId": "993d0520-e885-464a-fc46-c18fa8496197"
      },
      "execution_count": 61,
      "outputs": [
        {
          "output_type": "stream",
          "name": "stdout",
          "text": [
            "SCORE(TRAIN): 0.6091344591468112\n",
            " SCORE(TEST): 0.5931227033371754\n",
            "\n",
            "PREDICT: [1.734586   1.86281658 2.71975929 2.64102015 3.17458074 2.1895522\n",
            " 0.87793873 1.79392447 2.70148733 1.63569367]\n",
            " ANSWER: [1.474   1.481   1.929   3.875   5.00001 2.457   0.682   2.774   2.249\n",
            " 2.129  ]\n",
            "\n",
            "WEIGHT: [ 4.34022996e-01  9.14752327e-03 -9.83662123e-02  5.90497434e-01\n",
            " -6.52361175e-06 -4.68824210e-03 -4.22421899e-01 -4.34175832e-01]\n",
            "  BIAS: -36.82608788677508\n",
            "\n",
            "R2 SCORE: 0.6091344591468112\n",
            "     MAE: 0.5308344448012711\n",
            "    MAPE: 0.31633690299840994\n",
            "     MSE: 0.5239047478101366\n"
          ]
        }
      ]
    },
    {
      "cell_type": "markdown",
      "source": [
        "## Lecture 02 - 회귀 분석 with 제약"
      ],
      "metadata": {
        "id": "VyKoEzqClCNo"
      }
    },
    {
      "cell_type": "code",
      "source": [
        "# import pandas\n",
        "import pandas as pd\n",
        "\n",
        "pd.options.display.max_columns = 5\n",
        "pd.options.display.max_rows = 10"
      ],
      "metadata": {
        "id": "ZdQyajUXlH25"
      },
      "execution_count": 62,
      "outputs": []
    },
    {
      "cell_type": "code",
      "source": [
        "# 1. load dataset\n",
        "from sklearn.datasets import fetch_california_housing\n",
        "data = fetch_california_housing()"
      ],
      "metadata": {
        "id": "MRRX9FDqlMzb"
      },
      "execution_count": 63,
      "outputs": []
    },
    {
      "cell_type": "code",
      "source": [
        "# 2. set X, y\n",
        "X = pd.DataFrame(data=data.data, columns=data.feature_names)\n",
        "y = pd.Series(data=data.target)\n",
        "\n",
        "print(X.head())"
      ],
      "metadata": {
        "colab": {
          "base_uri": "https://localhost:8080/"
        },
        "id": "a9_BnvpMlM1q",
        "outputId": "2c3c90a5-c96c-4682-f768-e68f8c27bef5"
      },
      "execution_count": 64,
      "outputs": [
        {
          "output_type": "stream",
          "name": "stdout",
          "text": [
            "   MedInc  HouseAge  ...  Latitude  Longitude\n",
            "0  8.3252      41.0  ...     37.88    -122.23\n",
            "1  8.3014      21.0  ...     37.86    -122.22\n",
            "2  7.2574      52.0  ...     37.85    -122.24\n",
            "3  5.6431      52.0  ...     37.85    -122.25\n",
            "4  3.8462      52.0  ...     37.85    -122.25\n",
            "\n",
            "[5 rows x 8 columns]\n"
          ]
        }
      ]
    },
    {
      "cell_type": "code",
      "source": [
        "# 3. check X, y\n",
        "print(X.info())                 "
      ],
      "metadata": {
        "colab": {
          "base_uri": "https://localhost:8080/"
        },
        "id": "s7Qki2-llM3w",
        "outputId": "8add5773-4b6a-48b1-f036-920e065cac38"
      },
      "execution_count": 65,
      "outputs": [
        {
          "output_type": "stream",
          "name": "stdout",
          "text": [
            "<class 'pandas.core.frame.DataFrame'>\n",
            "RangeIndex: 20640 entries, 0 to 20639\n",
            "Data columns (total 8 columns):\n",
            " #   Column      Non-Null Count  Dtype  \n",
            "---  ------      --------------  -----  \n",
            " 0   MedInc      20640 non-null  float64\n",
            " 1   HouseAge    20640 non-null  float64\n",
            " 2   AveRooms    20640 non-null  float64\n",
            " 3   AveBedrms   20640 non-null  float64\n",
            " 4   Population  20640 non-null  float64\n",
            " 5   AveOccup    20640 non-null  float64\n",
            " 6   Latitude    20640 non-null  float64\n",
            " 7   Longitude   20640 non-null  float64\n",
            "dtypes: float64(8)\n",
            "memory usage: 1.3 MB\n",
            "None\n"
          ]
        }
      ]
    },
    {
      "cell_type": "code",
      "source": [
        "print(X .isnull().sum())"
      ],
      "metadata": {
        "colab": {
          "base_uri": "https://localhost:8080/"
        },
        "id": "-8qFBVVOlWKg",
        "outputId": "ee2c30b7-560f-4164-947e-0eb32a332967"
      },
      "execution_count": 66,
      "outputs": [
        {
          "output_type": "stream",
          "name": "stdout",
          "text": [
            "MedInc        0\n",
            "HouseAge      0\n",
            "AveRooms      0\n",
            "AveBedrms     0\n",
            "Population    0\n",
            "AveOccup      0\n",
            "Latitude      0\n",
            "Longitude     0\n",
            "dtype: int64\n"
          ]
        }
      ]
    },
    {
      "cell_type": "code",
      "source": [
        "print(X.describe())"
      ],
      "metadata": {
        "colab": {
          "base_uri": "https://localhost:8080/"
        },
        "id": "71FSbAUklWMt",
        "outputId": "196c7036-51b5-41de-edf3-87435629c524"
      },
      "execution_count": 67,
      "outputs": [
        {
          "output_type": "stream",
          "name": "stdout",
          "text": [
            "             MedInc      HouseAge  ...      Latitude     Longitude\n",
            "count  20640.000000  20640.000000  ...  20640.000000  20640.000000\n",
            "mean       3.870671     28.639486  ...     35.631861   -119.569704\n",
            "std        1.899822     12.585558  ...      2.135952      2.003532\n",
            "min        0.499900      1.000000  ...     32.540000   -124.350000\n",
            "25%        2.563400     18.000000  ...     33.930000   -121.800000\n",
            "50%        3.534800     29.000000  ...     34.260000   -118.490000\n",
            "75%        4.743250     37.000000  ...     37.710000   -118.010000\n",
            "max       15.000100     52.000000  ...     41.950000   -114.310000\n",
            "\n",
            "[8 rows x 8 columns]\n"
          ]
        }
      ]
    },
    {
      "cell_type": "code",
      "source": [
        "print(y.value_counts())"
      ],
      "metadata": {
        "colab": {
          "base_uri": "https://localhost:8080/"
        },
        "id": "k-yptAjalWO0",
        "outputId": "fe6ba8f5-c8aa-40ba-f459-099450c8b925"
      },
      "execution_count": 68,
      "outputs": [
        {
          "output_type": "stream",
          "name": "stdout",
          "text": [
            "5.00001    965\n",
            "1.37500    122\n",
            "1.62500    117\n",
            "1.12500    103\n",
            "1.87500     93\n",
            "          ... \n",
            "3.59200      1\n",
            "0.54900      1\n",
            "3.77600      1\n",
            "0.81200      1\n",
            "0.47000      1\n",
            "Length: 3842, dtype: int64\n"
          ]
        }
      ]
    },
    {
      "cell_type": "code",
      "source": [
        "print(y.value_counts() / len(y))"
      ],
      "metadata": {
        "colab": {
          "base_uri": "https://localhost:8080/"
        },
        "id": "YYUDCnddlWRS",
        "outputId": "c523c800-98e8-427f-d933-6be200d062ff"
      },
      "execution_count": 69,
      "outputs": [
        {
          "output_type": "stream",
          "name": "stdout",
          "text": [
            "5.00001    0.046754\n",
            "1.37500    0.005911\n",
            "1.62500    0.005669\n",
            "1.12500    0.004990\n",
            "1.87500    0.004506\n",
            "             ...   \n",
            "3.59200    0.000048\n",
            "0.54900    0.000048\n",
            "3.77600    0.000048\n",
            "0.81200    0.000048\n",
            "0.47000    0.000048\n",
            "Length: 3842, dtype: float64\n"
          ]
        }
      ]
    },
    {
      "cell_type": "code",
      "source": [
        "# 4. split data\n",
        "from sklearn.model_selection import train_test_split\n",
        "X_train, X_test, y_train, y_test = train_test_split(X, y,\n",
        "                                                    test_size=0.2)\n",
        "\n",
        "print(len(X_train), len(X_test))\n",
        "print(len(y_train), len(y_test))"
      ],
      "metadata": {
        "colab": {
          "base_uri": "https://localhost:8080/"
        },
        "id": "gnvDRxDUlM5s",
        "outputId": "caf4ea76-8b1a-4adb-d807-33b50d9352d7"
      },
      "execution_count": 70,
      "outputs": [
        {
          "output_type": "stream",
          "name": "stdout",
          "text": [
            "16512 4128\n",
            "16512 4128\n"
          ]
        }
      ]
    },
    {
      "cell_type": "code",
      "source": [
        "# 5. build model\n",
        "from sklearn.linear_model import LinearRegression\n",
        "linear_model = LinearRegression()\n",
        "linear_model.fit(X_train, y_train)\n",
        "\n",
        "score = linear_model.score(X_train, y_train)\n",
        "print(f'SCORE(TRAIN): {score}')\n",
        "\n",
        "score = linear_model.score(X_test, y_test)\n",
        "print(f' SCORE(TEST): {score}\\n')\n",
        "\n",
        "pred = model.predict(X_test[:10])\n",
        "print(f'PREDICT: {pred}')\n",
        "print(f' ANSWER: {y_test[:10].values}\\n')\n",
        "\n",
        "# weights and bias\n",
        "print(f'WEIGHT: {linear_model.coef_}')\n",
        "print(f'  BIAS: {linear_model.intercept_}\\n')\n",
        "\n",
        "# evaluation metrics\n",
        "from sklearn.metrics import r2_score, mean_absolute_error, mean_absolute_percentage_error, mean_squared_error\n",
        "pred = linear_model.predict(X_train)\n",
        "print(f'R2 SCORE: {r2_score(y_train, pred)}')\n",
        "print(f'     MAE: {mean_absolute_error(y_train, pred)}')\n",
        "print(f'    MAPE: {mean_absolute_percentage_error(y_train, pred)}')\n",
        "print(f'     MSE: {mean_squared_error(y_train, pred)}')"
      ],
      "metadata": {
        "colab": {
          "base_uri": "https://localhost:8080/"
        },
        "id": "18xPM54eleNp",
        "outputId": "0a2d0dda-415d-4c1f-e255-aef393cd87ba"
      },
      "execution_count": 71,
      "outputs": [
        {
          "output_type": "stream",
          "name": "stdout",
          "text": [
            "SCORE(TRAIN): 0.6040887571728685\n",
            " SCORE(TEST): 0.6126851800593788\n",
            "\n",
            "PREDICT: [0.6487015  2.07371374 2.47559728 1.20303947 2.43879294 2.72314076\n",
            " 5.88364454 2.3300876  1.90028376 1.7177314 ]\n",
            " ANSWER: [1.188   1.827   2.392   1.582   2.337   2.26    5.00001 1.745   2.306\n",
            " 1.606  ]\n",
            "\n",
            "WEIGHT: [ 4.42483244e-01  9.02135412e-03 -1.20446380e-01  6.59789936e-01\n",
            " -7.04174403e-06 -3.89327036e-03 -4.17648013e-01 -4.31049332e-01]\n",
            "  BIAS: -36.60813938356414\n",
            "\n",
            "R2 SCORE: 0.6040887571728685\n",
            "     MAE: 0.532963809164766\n",
            "    MAPE: 0.31873446634048536\n",
            "     MSE: 0.5265932337369396\n"
          ]
        }
      ]
    },
    {
      "cell_type": "code",
      "source": [
        "from sklearn.linear_model import Lasso\n",
        "lasso_model = Lasso(alpha=0.001)\n",
        "lasso_model.fit(X_train, y_train)\n",
        "\n",
        "score = lasso_model.score(X_train, y_train)\n",
        "print(f'SCORE(TRAIN): {score}')\n",
        "\n",
        "score = lasso_model.score(X_test, y_test)\n",
        "print(f' SCORE(TEST): {score}\\n')\n",
        "\n",
        "# weights and bias\n",
        "print(f'WEIGHT: {lasso_model.coef_}')\n",
        "print(f'  BIAS: {lasso_model.intercept_}\\n')\n",
        "\n",
        "# evaluation metrics\n",
        "from sklearn.metrics import r2_score, mean_absolute_error, mean_absolute_percentage_error, mean_squared_error\n",
        "pred = lasso_model.predict(X_train)\n",
        "print(f'R2 SCORE: {r2_score(y_train, pred)}')\n",
        "print(f'     MAE: {mean_absolute_error(y_train, pred)}')\n",
        "print(f'    MAPE: {mean_absolute_percentage_error(y_train, pred)}')\n",
        "print(f'     MSE: {mean_squared_error(y_train, pred)}')"
      ],
      "metadata": {
        "colab": {
          "base_uri": "https://localhost:8080/"
        },
        "id": "9XW4s790oNUb",
        "outputId": "d0440490-afc6-4e6f-d684-3d0adecec59b"
      },
      "execution_count": 72,
      "outputs": [
        {
          "output_type": "stream",
          "name": "stdout",
          "text": [
            "SCORE(TRAIN): 0.6040510880887605\n",
            " SCORE(TEST): 0.6129191328855998\n",
            "\n",
            "WEIGHT: [ 4.38747468e-01  9.09299412e-03 -1.13253335e-01  6.23271098e-01\n",
            " -6.75452123e-06 -3.87686075e-03 -4.16573364e-01 -4.29407272e-01]\n",
            "  BIAS: -36.43712103189487\n",
            "\n",
            "R2 SCORE: 0.6040510880887605\n",
            "     MAE: 0.5332172612990579\n",
            "    MAPE: 0.31889140387779247\n",
            "     MSE: 0.5266433365950214\n"
          ]
        }
      ]
    },
    {
      "cell_type": "code",
      "source": [
        "from sklearn.linear_model import Ridge\n",
        "ridge_model = Ridge(alpha=10000)\n",
        "ridge_model.fit(X_train, y_train)\n",
        "\n",
        "score = ridge_model.score(X_train, y_train)\n",
        "print(f'SCORE(TRAIN): {score}')\n",
        "\n",
        "score = ridge_model.score(X_test, y_test)\n",
        "print(f' SCORE(TEST): {score}\\n')\n",
        "\n",
        "pred = model.predict(X_test[:10])\n",
        "print(f'PREDICT: {pred}')\n",
        "print(f' ANSWER: {y_test[:10].values}\\n')\n",
        "\n",
        "# weights and bias\n",
        "print(f'WEIGHT: {ridge_model.coef_}')\n",
        "print(f'  BIAS: {ridge_model.intercept_}\\n')\n",
        "\n",
        "# evaluation metrics\n",
        "from sklearn.metrics import r2_score, mean_absolute_error, mean_absolute_percentage_error, mean_squared_error\n",
        "pred = ridge_model.predict(X_train)\n",
        "print(f'R2 SCORE: {r2_score(y_train, pred)}')\n",
        "print(f'     MAE: {mean_absolute_error(y_train, pred)}')\n",
        "print(f'    MAPE: {mean_absolute_percentage_error(y_train, pred)}')\n",
        "print(f'     MSE: {mean_squared_error(y_train, pred)}')"
      ],
      "metadata": {
        "colab": {
          "base_uri": "https://localhost:8080/"
        },
        "id": "7sUNvOw9oQd8",
        "outputId": "48d797bf-8e0f-4001-f28a-edaa3788bf8e"
      },
      "execution_count": 73,
      "outputs": [
        {
          "output_type": "stream",
          "name": "stdout",
          "text": [
            "SCORE(TRAIN): 0.5475314362325117\n",
            " SCORE(TEST): 0.5646302812954354\n",
            "\n",
            "PREDICT: [0.6487015  2.07371374 2.47559728 1.20303947 2.43879294 2.72314076\n",
            " 5.88364454 2.3300876  1.90028376 1.7177314 ]\n",
            " ANSWER: [1.188   1.827   2.392   1.582   2.337   2.26    5.00001 1.745   2.306\n",
            " 1.606  ]\n",
            "\n",
            "WEIGHT: [ 3.54234575e-01  1.39665051e-02 -3.52488298e-03  1.42012638e-02\n",
            "  1.30795506e-05 -3.82883352e-03 -1.61556039e-01 -1.49315745e-01]\n",
            "  BIAS: -11.8023140248594\n",
            "\n",
            "R2 SCORE: 0.5475314362325117\n",
            "     MAE: 0.5810160464292603\n",
            "    MAPE: 0.36232993322756\n",
            "     MSE: 0.6018189391571935\n"
          ]
        }
      ]
    },
    {
      "cell_type": "markdown",
      "source": [
        "## Lecture 03 - 차원 확장"
      ],
      "metadata": {
        "id": "vP5sccrppddA"
      }
    },
    {
      "cell_type": "code",
      "source": [
        "# import numpy and matplotlib\n",
        "import numpy as np\n",
        "import matplotlib.pyplot as plt"
      ],
      "metadata": {
        "id": "UghpnBhQpkW7"
      },
      "execution_count": 74,
      "outputs": []
    },
    {
      "cell_type": "code",
      "source": [
        "# 1. set X, y\n",
        "X = np.arange(1, 11).reshape(-1, 1)\n",
        "y = [5, 8, 10, 9, 7, 5, 3, 6, 9, 10]"
      ],
      "metadata": {
        "id": "mkGZwQCEphQ_"
      },
      "execution_count": 75,
      "outputs": []
    },
    {
      "cell_type": "code",
      "source": [
        "# 2. check X, y\n",
        "plt.plot(X, y, 'xb')\n",
        "plt.show()"
      ],
      "metadata": {
        "colab": {
          "base_uri": "https://localhost:8080/",
          "height": 265
        },
        "id": "SFN32Mr-pwsB",
        "outputId": "1046029c-15eb-49f0-830b-82fbe6e47789"
      },
      "execution_count": 76,
      "outputs": [
        {
          "output_type": "display_data",
          "data": {
            "text/plain": [
              "<Figure size 432x288 with 1 Axes>"
            ],
            "image/png": "[encoded data removed]"
          },
          "metadata": {
            "needs_background": "light"
          }
        }
      ]
    },
    {
      "cell_type": "code",
      "source": [
        "# 3. build model without 차원 확장\n",
        "from sklearn.linear_model import LinearRegression\n",
        "model = LinearRegression()\n",
        "model.fit(X, y)\n",
        "\n",
        "score = model.score(X, y)\n",
        "print(f'SCORE: {score}\\n')\n",
        "\n",
        "pred = model.predict(X)\n",
        "print(f'PREDICT: {pred}')\n",
        "print(f' ANSWER: {y}\\n')\n",
        "\n",
        "plt.plot(X, pred, 'xb')\n",
        "plt.show()"
      ],
      "metadata": {
        "colab": {
          "base_uri": "https://localhost:8080/",
          "height": 372
        },
        "id": "8d2sD7Ejr45P",
        "outputId": "8ed537c5-16e8-4f23-f21b-c233920442d0"
      },
      "execution_count": 77,
      "outputs": [
        {
          "output_type": "stream",
          "name": "stdout",
          "text": [
            "SCORE: 0.00845665961945019\n",
            "\n",
            "PREDICT: [6.87272727 6.94545455 7.01818182 7.09090909 7.16363636 7.23636364\n",
            " 7.30909091 7.38181818 7.45454545 7.52727273]\n",
            " ANSWER: [5, 8, 10, 9, 7, 5, 3, 6, 9, 10]\n",
            "\n"
          ]
        },
        {
          "output_type": "display_data",
          "data": {
            "text/plain": [
              "<Figure size 432x288 with 1 Axes>"
            ],
            "image/png": "[encoded data removed]"
          },
          "metadata": {
            "needs_background": "light"
          }
        }
      ]
    },
    {
      "cell_type": "code",
      "source": [
        "# 4. build model with 차원 확장 \n",
        "from sklearn.preprocessing import PolynomialFeatures\n",
        "poly = PolynomialFeatures(degree=2, include_bias=False)\n",
        "\n",
        "X = poly.fit_transform(X)\n",
        "\n",
        "from sklearn.linear_model import LinearRegression\n",
        "model = LinearRegression()\n",
        "model.fit(X, y)\n",
        "\n",
        "score = model.score(X, y)\n",
        "print(f'SCORE: {score}\\n')\n",
        "\n",
        "pred = model.predict(X)\n",
        "print(f'PREDICT: {pred}')\n",
        "print(f' ANSWER: {y}\\n')\n",
        "\n",
        "plt.plot(X, pred, 'xb')\n",
        "plt.show()"
      ],
      "metadata": {
        "colab": {
          "base_uri": "https://localhost:8080/",
          "height": 372
        },
        "id": "l0knfQW8p9r8",
        "outputId": "d1c6c705-8733-4792-d4f6-fe4db99b9a79"
      },
      "execution_count": 78,
      "outputs": [
        {
          "output_type": "stream",
          "name": "stdout",
          "text": [
            "SCORE: 0.09302325581395354\n",
            "\n",
            "PREDICT: [7.96363636 7.30909091 6.83636364 6.54545455 6.43636364 6.50909091\n",
            " 6.76363636 7.2        7.81818182 8.61818182]\n",
            " ANSWER: [5, 8, 10, 9, 7, 5, 3, 6, 9, 10]\n",
            "\n"
          ]
        },
        {
          "output_type": "display_data",
          "data": {
            "text/plain": [
              "<Figure size 432x288 with 1 Axes>"
            ],
            "image/png": "[encoded data removed]"
          },
          "metadata": {
            "needs_background": "light"
          }
        }
      ]
    }
  ]
}