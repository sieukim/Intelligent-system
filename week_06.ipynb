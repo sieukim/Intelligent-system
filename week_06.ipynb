{
  "nbformat": 4,
  "nbformat_minor": 0,
  "metadata": {
    "colab": {
      "name": "week_06.ipynb",
      "provenance": [],
      "collapsed_sections": []
    },
    "kernelspec": {
      "name": "python3",
      "display_name": "Python 3"
    },
    "language_info": {
      "name": "python"
    }
  },
  "cells": [
    {
      "cell_type": "markdown",
      "source": [
        "**앙상블**\n",
        "- 여러 개의 머신러닝 알고리즘을 결합하여 각 모델이 예측한 결과를 취합 또는 부스팅하여 예측을 수행하는 기법 \n",
        "- **취합**\n",
        "  - 앙상블을 구성하는 내부의 각 모델이 서로 독립적으로 동작함\n",
        "  - 각 모델은 적절한 수준의 과적합을 수행할 필요가 있음\n",
        "  - 학습과 예측의 수행 속도가 빠름\n",
        "  - 각 모델이 독립적이라 병렬 처리 가능\n",
        "  - **Voting**\n",
        "    - Hard\n",
        "      - 각 모델이 예측한 결과를 집계하여, 가장 많이 나온 클래스로 결정 \n",
        "    - Soft\n",
        "      - 각 모델이 예측한 확률의 평균을 구해, 가장 높은 평균값을 갖는 클래스로 결정\n",
        "  - **Bagging**\n",
        "    - 특정 머신러닝 알고리즘을 기반으로 데이터를 무작위 추출하여 각 모델이 서로 다른 데이터를 학습하는 방식으로 앙상블을 수행하는 기법\n",
        "  - **RandomForest**\n",
        "    - Bagging에 Decision Tree를 조합하여 사용하는 기법 \n",
        "- **부스팅**\n",
        "  - 앙상블을 구성하는 내부의 각 모델이 선형으로 연결되어 동작함\n",
        "  - 각 모델은 이전 모델의 학습이 종료되어야 학습을 수행할 수 있음\n",
        "  - 각 모델은 이전 모델에 영향을 받음 \n",
        "  - 각 모델에 강한 제약을 설정하여 점진적인 성능 향상을 도모함\n",
        "  - 학습과 예측의 수행 속도가 느림\n",
        "  - **AdaBoosting**\n",
        "    - 직전 모델이 예측한 데이터에 가중치를 부여하는 데이터 중심 기법 \n",
        "  - **GradientBoosting** \n",
        "    - 결정 트리를 기본 모델로 하는 기법 "
      ],
      "metadata": {
        "id": "7ghudTt5x7hE"
      }
    },
    {
      "cell_type": "markdown",
      "source": [
        "## Lecture 01 - 앙상블 with 취합 "
      ],
      "metadata": {
        "id": "H0xJMXzax7wt"
      }
    },
    {
      "cell_type": "code",
      "execution_count": 1,
      "metadata": {
        "id": "Fg0NClRIx4Nh"
      },
      "outputs": [],
      "source": [
        "# import pandas\n",
        "import pandas as pd\n",
        "\n",
        "pd.options.display.max_columns = 5\n",
        "pd.options.display.max_rows = 10"
      ]
    },
    {
      "cell_type": "code",
      "source": [
        "# 1. load dataset\n",
        "from sklearn.datasets import load_breast_cancer\n",
        "data = load_breast_cancer()"
      ],
      "metadata": {
        "id": "TCZGAtWNzb2S"
      },
      "execution_count": 2,
      "outputs": []
    },
    {
      "cell_type": "code",
      "source": [
        "# 2. set X, y\n",
        "X = pd.DataFrame(data=data.data, columns=data.feature_names)\n",
        "y = pd.Series(data=data.target)\n",
        "\n",
        "print(X.head())"
      ],
      "metadata": {
        "colab": {
          "base_uri": "https://localhost:8080/"
        },
        "id": "z0TaiD7Ezb4K",
        "outputId": "8bbc21d6-6ac0-4df4-c078-49ec54b14f19"
      },
      "execution_count": 3,
      "outputs": [
        {
          "output_type": "stream",
          "name": "stdout",
          "text": [
            "   mean radius  mean texture  ...  worst symmetry  worst fractal dimension\n",
            "0        17.99         10.38  ...          0.4601                  0.11890\n",
            "1        20.57         17.77  ...          0.2750                  0.08902\n",
            "2        19.69         21.25  ...          0.3613                  0.08758\n",
            "3        11.42         20.38  ...          0.6638                  0.17300\n",
            "4        20.29         14.34  ...          0.2364                  0.07678\n",
            "\n",
            "[5 rows x 30 columns]\n"
          ]
        }
      ]
    },
    {
      "cell_type": "code",
      "source": [
        "# 3. check X, y\n",
        "print(X.info())                 "
      ],
      "metadata": {
        "colab": {
          "base_uri": "https://localhost:8080/"
        },
        "id": "_gxKzidgzb6F",
        "outputId": "9d612088-86ea-4104-9cdd-f6d7768703f6"
      },
      "execution_count": 4,
      "outputs": [
        {
          "output_type": "stream",
          "name": "stdout",
          "text": [
            "<class 'pandas.core.frame.DataFrame'>\n",
            "RangeIndex: 569 entries, 0 to 568\n",
            "Data columns (total 30 columns):\n",
            " #   Column                   Non-Null Count  Dtype  \n",
            "---  ------                   --------------  -----  \n",
            " 0   mean radius              569 non-null    float64\n",
            " 1   mean texture             569 non-null    float64\n",
            " 2   mean perimeter           569 non-null    float64\n",
            " 3   mean area                569 non-null    float64\n",
            " 4   mean smoothness          569 non-null    float64\n",
            " 5   mean compactness         569 non-null    float64\n",
            " 6   mean concavity           569 non-null    float64\n",
            " 7   mean concave points      569 non-null    float64\n",
            " 8   mean symmetry            569 non-null    float64\n",
            " 9   mean fractal dimension   569 non-null    float64\n",
            " 10  radius error             569 non-null    float64\n",
            " 11  texture error            569 non-null    float64\n",
            " 12  perimeter error          569 non-null    float64\n",
            " 13  area error               569 non-null    float64\n",
            " 14  smoothness error         569 non-null    float64\n",
            " 15  compactness error        569 non-null    float64\n",
            " 16  concavity error          569 non-null    float64\n",
            " 17  concave points error     569 non-null    float64\n",
            " 18  symmetry error           569 non-null    float64\n",
            " 19  fractal dimension error  569 non-null    float64\n",
            " 20  worst radius             569 non-null    float64\n",
            " 21  worst texture            569 non-null    float64\n",
            " 22  worst perimeter          569 non-null    float64\n",
            " 23  worst area               569 non-null    float64\n",
            " 24  worst smoothness         569 non-null    float64\n",
            " 25  worst compactness        569 non-null    float64\n",
            " 26  worst concavity          569 non-null    float64\n",
            " 27  worst concave points     569 non-null    float64\n",
            " 28  worst symmetry           569 non-null    float64\n",
            " 29  worst fractal dimension  569 non-null    float64\n",
            "dtypes: float64(30)\n",
            "memory usage: 133.5 KB\n",
            "None\n"
          ]
        }
      ]
    },
    {
      "cell_type": "code",
      "source": [
        "print(X.isnull().sum())"
      ],
      "metadata": {
        "colab": {
          "base_uri": "https://localhost:8080/"
        },
        "id": "0zIxUmZXzb8B",
        "outputId": "c1961fb7-e39c-4313-a0f4-758647ba35ef"
      },
      "execution_count": 5,
      "outputs": [
        {
          "output_type": "stream",
          "name": "stdout",
          "text": [
            "mean radius                0\n",
            "mean texture               0\n",
            "mean perimeter             0\n",
            "mean area                  0\n",
            "mean smoothness            0\n",
            "                          ..\n",
            "worst compactness          0\n",
            "worst concavity            0\n",
            "worst concave points       0\n",
            "worst symmetry             0\n",
            "worst fractal dimension    0\n",
            "Length: 30, dtype: int64\n"
          ]
        }
      ]
    },
    {
      "cell_type": "code",
      "source": [
        "print(X.describe())"
      ],
      "metadata": {
        "colab": {
          "base_uri": "https://localhost:8080/"
        },
        "id": "jLN8CBuozb-B",
        "outputId": "2b5a1efb-bf89-48f5-e508-7700bbaf49bb"
      },
      "execution_count": 6,
      "outputs": [
        {
          "output_type": "stream",
          "name": "stdout",
          "text": [
            "       mean radius  mean texture  ...  worst symmetry  worst fractal dimension\n",
            "count   569.000000    569.000000  ...      569.000000               569.000000\n",
            "mean     14.127292     19.289649  ...        0.290076                 0.083946\n",
            "std       3.524049      4.301036  ...        0.061867                 0.018061\n",
            "min       6.981000      9.710000  ...        0.156500                 0.055040\n",
            "25%      11.700000     16.170000  ...        0.250400                 0.071460\n",
            "50%      13.370000     18.840000  ...        0.282200                 0.080040\n",
            "75%      15.780000     21.800000  ...        0.317900                 0.092080\n",
            "max      28.110000     39.280000  ...        0.663800                 0.207500\n",
            "\n",
            "[8 rows x 30 columns]\n"
          ]
        }
      ]
    },
    {
      "cell_type": "code",
      "source": [
        "print(y.value_counts())"
      ],
      "metadata": {
        "colab": {
          "base_uri": "https://localhost:8080/"
        },
        "id": "PwthX3_-zb_t",
        "outputId": "60753a19-f35a-4551-9d81-b0d753167276"
      },
      "execution_count": 7,
      "outputs": [
        {
          "output_type": "stream",
          "name": "stdout",
          "text": [
            "1    357\n",
            "0    212\n",
            "dtype: int64\n"
          ]
        }
      ]
    },
    {
      "cell_type": "code",
      "source": [
        "print(y.value_counts() / len(y))"
      ],
      "metadata": {
        "colab": {
          "base_uri": "https://localhost:8080/"
        },
        "id": "Iz55OsiUzcB2",
        "outputId": "12cd0d50-fcae-48b2-937a-4c70443c841d"
      },
      "execution_count": 8,
      "outputs": [
        {
          "output_type": "stream",
          "name": "stdout",
          "text": [
            "1    0.627417\n",
            "0    0.372583\n",
            "dtype: float64\n"
          ]
        }
      ]
    },
    {
      "cell_type": "code",
      "source": [
        "# 4. split data\n",
        "from sklearn.model_selection import train_test_split\n",
        "X_train, X_test, y_train, y_test = train_test_split(X, y,\n",
        "                                                    test_size=0.2)\n",
        "\n",
        "print(len(X_train), len(X_test))\n",
        "print(len(y_train), len(y_test))"
      ],
      "metadata": {
        "colab": {
          "base_uri": "https://localhost:8080/"
        },
        "id": "AB3g_SLWzcDl",
        "outputId": "643a2bc2-9163-4b92-8762-3509fcf4b34c"
      },
      "execution_count": 9,
      "outputs": [
        {
          "output_type": "stream",
          "name": "stdout",
          "text": [
            "455 114\n",
            "455 114\n"
          ]
        }
      ]
    },
    {
      "cell_type": "code",
      "source": [
        "# 5. build model\n",
        "\n",
        "# 내부 모델 \n",
        "models = []\n",
        "\n",
        "from sklearn.neighbors import KNeighborsClassifier\n",
        "models.append(KNeighborsClassifier())\n",
        "\n",
        "from sklearn.linear_model import LogisticRegression\n",
        "models.append(LogisticRegression(max_iter=10000))\n",
        "\n",
        "from sklearn.tree import DecisionTreeClassifier\n",
        "models.append(DecisionTreeClassifier())\n",
        "\n",
        "# 취합 모델\n",
        "from sklearn.ensemble import VotingClassifier\n",
        "model = VotingClassifier(estimators=[(f'model{i}', models[i]) for i in range(3)])\n",
        "model.fit(X_train, y_train)\n",
        "\n",
        "score = model.score(X_train, y_train)\n",
        "print(f'SCORE(TRAIN): {score}')\n",
        "\n",
        "score = model.score(X_test, y_test)\n",
        "print(f' SCORE(TEST): {score}\\n')\n",
        "\n",
        "print(f'    ANSWER: {y_test[:5].values}')\n",
        "\n",
        "pred = model.predict(X_test[:5])\n",
        "print(f'PREDICT(0): {pred}')\n",
        "\n",
        "for i in range(3):\n",
        "  pred = model.estimators_[i].predict(X_test[:5])\n",
        "  print(f'PREDICT({i+1}): {pred}')"
      ],
      "metadata": {
        "colab": {
          "base_uri": "https://localhost:8080/"
        },
        "id": "5Pzrf-ezzcFs",
        "outputId": "6db9665f-06e9-4c28-f62c-e762ce8b6b15"
      },
      "execution_count": 16,
      "outputs": [
        {
          "output_type": "stream",
          "name": "stdout",
          "text": [
            "SCORE(TRAIN): 0.9802197802197802\n",
            " SCORE(TEST): 0.9298245614035088\n",
            "\n",
            "    ANSWER: [1 1 1 1 0]\n",
            "PREDICT(0): [1 1 1 1 0]\n",
            "PREDICT(1): [1 1 1 1 0]\n",
            "PREDICT(2): [1 1 1 1 0]\n",
            "PREDICT(3): [1 1 1 1 0]\n"
          ]
        }
      ]
    },
    {
      "cell_type": "markdown",
      "source": [
        "## Lecture 02 - 앙상블 with 부스팅"
      ],
      "metadata": {
        "id": "gYVzZE5c386g"
      }
    },
    {
      "cell_type": "code",
      "execution_count": 17,
      "metadata": {
        "id": "XbqmPtV7386r"
      },
      "outputs": [],
      "source": [
        "# import pandas\n",
        "import pandas as pd\n",
        "\n",
        "pd.options.display.max_columns = 5\n",
        "pd.options.display.max_rows = 10"
      ]
    },
    {
      "cell_type": "code",
      "source": [
        "# 1. load dataset\n",
        "from sklearn.datasets import load_breast_cancer\n",
        "data = load_breast_cancer()"
      ],
      "metadata": {
        "id": "vraivb5K386r"
      },
      "execution_count": 18,
      "outputs": []
    },
    {
      "cell_type": "code",
      "source": [
        "# 2. set X, y\n",
        "X = pd.DataFrame(data=data.data, columns=data.feature_names)\n",
        "y = pd.Series(data=data.target)\n",
        "\n",
        "print(X.head())"
      ],
      "metadata": {
        "colab": {
          "base_uri": "https://localhost:8080/"
        },
        "outputId": "015775a9-3c9c-4741-a183-eb36d2b7f193",
        "id": "NTjU4oQS386s"
      },
      "execution_count": 19,
      "outputs": [
        {
          "output_type": "stream",
          "name": "stdout",
          "text": [
            "   mean radius  mean texture  ...  worst symmetry  worst fractal dimension\n",
            "0        17.99         10.38  ...          0.4601                  0.11890\n",
            "1        20.57         17.77  ...          0.2750                  0.08902\n",
            "2        19.69         21.25  ...          0.3613                  0.08758\n",
            "3        11.42         20.38  ...          0.6638                  0.17300\n",
            "4        20.29         14.34  ...          0.2364                  0.07678\n",
            "\n",
            "[5 rows x 30 columns]\n"
          ]
        }
      ]
    },
    {
      "cell_type": "code",
      "source": [
        "# 3. check X, y\n",
        "print(X.info())                 "
      ],
      "metadata": {
        "colab": {
          "base_uri": "https://localhost:8080/"
        },
        "outputId": "0cea9162-8b04-483e-c87b-946c4cb07d7f",
        "id": "slKvfBOC386s"
      },
      "execution_count": 20,
      "outputs": [
        {
          "output_type": "stream",
          "name": "stdout",
          "text": [
            "<class 'pandas.core.frame.DataFrame'>\n",
            "RangeIndex: 569 entries, 0 to 568\n",
            "Data columns (total 30 columns):\n",
            " #   Column                   Non-Null Count  Dtype  \n",
            "---  ------                   --------------  -----  \n",
            " 0   mean radius              569 non-null    float64\n",
            " 1   mean texture             569 non-null    float64\n",
            " 2   mean perimeter           569 non-null    float64\n",
            " 3   mean area                569 non-null    float64\n",
            " 4   mean smoothness          569 non-null    float64\n",
            " 5   mean compactness         569 non-null    float64\n",
            " 6   mean concavity           569 non-null    float64\n",
            " 7   mean concave points      569 non-null    float64\n",
            " 8   mean symmetry            569 non-null    float64\n",
            " 9   mean fractal dimension   569 non-null    float64\n",
            " 10  radius error             569 non-null    float64\n",
            " 11  texture error            569 non-null    float64\n",
            " 12  perimeter error          569 non-null    float64\n",
            " 13  area error               569 non-null    float64\n",
            " 14  smoothness error         569 non-null    float64\n",
            " 15  compactness error        569 non-null    float64\n",
            " 16  concavity error          569 non-null    float64\n",
            " 17  concave points error     569 non-null    float64\n",
            " 18  symmetry error           569 non-null    float64\n",
            " 19  fractal dimension error  569 non-null    float64\n",
            " 20  worst radius             569 non-null    float64\n",
            " 21  worst texture            569 non-null    float64\n",
            " 22  worst perimeter          569 non-null    float64\n",
            " 23  worst area               569 non-null    float64\n",
            " 24  worst smoothness         569 non-null    float64\n",
            " 25  worst compactness        569 non-null    float64\n",
            " 26  worst concavity          569 non-null    float64\n",
            " 27  worst concave points     569 non-null    float64\n",
            " 28  worst symmetry           569 non-null    float64\n",
            " 29  worst fractal dimension  569 non-null    float64\n",
            "dtypes: float64(30)\n",
            "memory usage: 133.5 KB\n",
            "None\n"
          ]
        }
      ]
    },
    {
      "cell_type": "code",
      "source": [
        "print(X.isnull().sum())"
      ],
      "metadata": {
        "colab": {
          "base_uri": "https://localhost:8080/"
        },
        "outputId": "f55059cb-86cc-4249-9b97-f3d5791dfed3",
        "id": "oouvsDx-386s"
      },
      "execution_count": 21,
      "outputs": [
        {
          "output_type": "stream",
          "name": "stdout",
          "text": [
            "mean radius                0\n",
            "mean texture               0\n",
            "mean perimeter             0\n",
            "mean area                  0\n",
            "mean smoothness            0\n",
            "                          ..\n",
            "worst compactness          0\n",
            "worst concavity            0\n",
            "worst concave points       0\n",
            "worst symmetry             0\n",
            "worst fractal dimension    0\n",
            "Length: 30, dtype: int64\n"
          ]
        }
      ]
    },
    {
      "cell_type": "code",
      "source": [
        "print(X.describe())"
      ],
      "metadata": {
        "colab": {
          "base_uri": "https://localhost:8080/"
        },
        "outputId": "9225c99d-6147-462b-bb50-f88723344c97",
        "id": "-wILDgnm386s"
      },
      "execution_count": 22,
      "outputs": [
        {
          "output_type": "stream",
          "name": "stdout",
          "text": [
            "       mean radius  mean texture  ...  worst symmetry  worst fractal dimension\n",
            "count   569.000000    569.000000  ...      569.000000               569.000000\n",
            "mean     14.127292     19.289649  ...        0.290076                 0.083946\n",
            "std       3.524049      4.301036  ...        0.061867                 0.018061\n",
            "min       6.981000      9.710000  ...        0.156500                 0.055040\n",
            "25%      11.700000     16.170000  ...        0.250400                 0.071460\n",
            "50%      13.370000     18.840000  ...        0.282200                 0.080040\n",
            "75%      15.780000     21.800000  ...        0.317900                 0.092080\n",
            "max      28.110000     39.280000  ...        0.663800                 0.207500\n",
            "\n",
            "[8 rows x 30 columns]\n"
          ]
        }
      ]
    },
    {
      "cell_type": "code",
      "source": [
        "print(y.value_counts())"
      ],
      "metadata": {
        "colab": {
          "base_uri": "https://localhost:8080/"
        },
        "outputId": "1ecd16c2-c088-4ce7-e64b-61bc9b1330f6",
        "id": "oaKtBoOv386s"
      },
      "execution_count": 23,
      "outputs": [
        {
          "output_type": "stream",
          "name": "stdout",
          "text": [
            "1    357\n",
            "0    212\n",
            "dtype: int64\n"
          ]
        }
      ]
    },
    {
      "cell_type": "code",
      "source": [
        "print(y.value_counts() / len(y))"
      ],
      "metadata": {
        "colab": {
          "base_uri": "https://localhost:8080/"
        },
        "outputId": "12cd0d50-fcae-48b2-937a-4c70443c841d",
        "id": "sV3oeN-C386s"
      },
      "execution_count": null,
      "outputs": [
        {
          "output_type": "stream",
          "name": "stdout",
          "text": [
            "1    0.627417\n",
            "0    0.372583\n",
            "dtype: float64\n"
          ]
        }
      ]
    },
    {
      "cell_type": "code",
      "source": [
        "# 4. split data\n",
        "from sklearn.model_selection import train_test_split\n",
        "X_train, X_test, y_train, y_test = train_test_split(X, y,\n",
        "                                                    test_size=0.2)\n",
        "\n",
        "print(len(X_train), len(X_test))\n",
        "print(len(y_train), len(y_test))"
      ],
      "metadata": {
        "colab": {
          "base_uri": "https://localhost:8080/"
        },
        "outputId": "092ea9f0-2663-48cc-e72b-98440858f168",
        "id": "Nr0V2PBS386s"
      },
      "execution_count": 24,
      "outputs": [
        {
          "output_type": "stream",
          "name": "stdout",
          "text": [
            "455 114\n",
            "455 114\n"
          ]
        }
      ]
    },
    {
      "cell_type": "code",
      "source": [
        "# 5. build model\n",
        "\n",
        "# 베이스 모델 \n",
        "from sklearn.linear_model import LogisticRegression\n",
        "base_model = LogisticRegression(max_iter=10000)\n",
        "models = []\n",
        "\n",
        "# 부스팅 모델\n",
        "from sklearn.ensemble import AdaBoostClassifier\n",
        "model = AdaBoostClassifier(base_estimator=base_model)\n",
        "model.fit(X_train, y_train)\n",
        "\n",
        "score = model.score(X_train, y_train)\n",
        "print(f'SCORE(TRAIN): {score}')\n",
        "\n",
        "score = model.score(X_test, y_test)\n",
        "print(f' SCORE(TEST): {score}\\n')\n",
        "\n",
        "pred = model.predict(X_test[:5])\n",
        "print(f'PREDICT: {pred}')\n",
        "print(f' ANSWER: {y_test[:5].values}')"
      ],
      "metadata": {
        "colab": {
          "base_uri": "https://localhost:8080/"
        },
        "outputId": "e19c5eb3-08fe-4c66-a4ef-01bd49df0d45",
        "id": "h_5zZ31o386s"
      },
      "execution_count": 26,
      "outputs": [
        {
          "output_type": "stream",
          "name": "stdout",
          "text": [
            "SCORE(TRAIN): 0.9560439560439561\n",
            " SCORE(TEST): 0.9473684210526315\n",
            "\n",
            "PREDICT: [1 1 0 0 1]\n",
            " ANSWER: [1 0 0 0 1]\n"
          ]
        }
      ]
    }
  ]
}